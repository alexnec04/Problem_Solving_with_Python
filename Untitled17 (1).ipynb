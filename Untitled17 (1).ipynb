{
 "cells": [
  {
   "cell_type": "code",
   "execution_count": 72,
   "id": "866d41ae-f9b7-4b77-a162-d8b8dea6abc6",
   "metadata": {},
   "outputs": [
    {
     "data": {
      "text/plain": [
       "0.625"
      ]
     },
     "execution_count": 72,
     "metadata": {},
     "output_type": "execute_result"
    }
   ],
   "source": [
    "import math\n",
    "import itertools\n",
    "\n",
    "\n",
    "def prob(n):\n",
    "    k= n//2\n",
    "    start=0\n",
    "    for i in list(range(k +1)):\n",
    "        start+= math.comb(n-i, i )* (2)**i\n",
    "    return start/ (2**n)\n",
    "\n",
    "\n",
    "prob(3)\n",
    "\n",
    "\n"
   ]
  },
  {
   "cell_type": "code",
   "execution_count": 76,
   "id": "4b00876c-7ec5-485e-af5b-02dc00ca3913",
   "metadata": {},
   "outputs": [
    {
     "ename": "TypeError",
     "evalue": "'int' object is not iterable",
     "output_type": "error",
     "traceback": [
      "\u001b[1;31m---------------------------------------------------------------------------\u001b[0m",
      "\u001b[1;31mTypeError\u001b[0m                                 Traceback (most recent call last)",
      "Cell \u001b[1;32mIn[76], line 27\u001b[0m\n\u001b[0;32m     23\u001b[0m         outcomes\u001b[38;5;241m.\u001b[39mappend((flip_str, num_seq))\n\u001b[0;32m     25\u001b[0m     \u001b[38;5;28;01mreturn\u001b[39;00m outcomes\n\u001b[1;32m---> 27\u001b[0m coin_flip_sequence(\u001b[38;5;241m3\u001b[39m)\n",
      "Cell \u001b[1;32mIn[76], line 5\u001b[0m, in \u001b[0;36mcoin_flip_sequence\u001b[1;34m(flips)\u001b[0m\n\u001b[0;32m      2\u001b[0m cumulative \u001b[38;5;241m=\u001b[39m \u001b[38;5;241m0\u001b[39m\n\u001b[0;32m      3\u001b[0m sequence \u001b[38;5;241m=\u001b[39m \u001b[38;5;124m\"\u001b[39m\u001b[38;5;124m\"\u001b[39m\n\u001b[1;32m----> 5\u001b[0m \u001b[38;5;28;01mfor\u001b[39;00m flip \u001b[38;5;129;01min\u001b[39;00m flips:\n\u001b[0;32m      6\u001b[0m     \u001b[38;5;28;01mif\u001b[39;00m flip \u001b[38;5;241m==\u001b[39m \u001b[38;5;124m'\u001b[39m\u001b[38;5;124mH\u001b[39m\u001b[38;5;124m'\u001b[39m:\n\u001b[0;32m      7\u001b[0m         cumulative \u001b[38;5;241m+\u001b[39m\u001b[38;5;241m=\u001b[39m \u001b[38;5;241m1\u001b[39m\n",
      "\u001b[1;31mTypeError\u001b[0m: 'int' object is not iterable"
     ]
    }
   ],
   "source": [
    "import itertools\n",
    "\n",
    "def coin_flip_sequence(flips):\n",
    "    cumulative = 0\n",
    "    sequence = \"\"\n",
    "    \n",
    "    for flip in flips:\n",
    "        if flip == 'H':\n",
    "            cumulative += 1\n",
    "        elif flip == 'T':\n",
    "            cumulative += 2\n",
    "        else:\n",
    "            raise ValueError(\"Use only 'H' or 'T'.\")\n",
    "        \n",
    "        sequence += str(cumulative)\n",
    "    \n",
    "    return sequence\n",
    "\n",
    "def generate_sequences(n):\n",
    "    outcomes = []\n",
    "    \n",
    "    for outcome in itertools.product('HT', repeat=n):\n",
    "        flip_str = ''.join(outcome)\n",
    "        num_seq = coin_flip_sequence(flip_str)\n",
    "        outcomes.append((flip_str, num_seq))\n",
    "    \n",
    "    return outcomes\n",
    "\n",
    "# Example usage\n",
    "results = generate_sequences(3)\n",
    "for flip_seq, num_seq in results:\n",
    "    print(f\"{flip_seq} -> {num_seq}\")\n"
   ]
  },
  {
   "cell_type": "code",
   "execution_count": null,
   "id": "dcdfb90e-a07a-48f8-9221-ed3f4daf2400",
   "metadata": {},
   "outputs": [],
   "source": []
  }
 ],
 "metadata": {
  "kernelspec": {
   "display_name": "Python [conda env:base] *",
   "language": "python",
   "name": "conda-base-py"
  },
  "language_info": {
   "codemirror_mode": {
    "name": "ipython",
    "version": 3
   },
   "file_extension": ".py",
   "mimetype": "text/x-python",
   "name": "python",
   "nbconvert_exporter": "python",
   "pygments_lexer": "ipython3",
   "version": "3.12.7"
  }
 },
 "nbformat": 4,
 "nbformat_minor": 5
}
