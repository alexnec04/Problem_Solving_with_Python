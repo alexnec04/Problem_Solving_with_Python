{
 "cells": [
  {
   "cell_type": "code",
   "execution_count": 2,
   "id": "52b9c2cd-55c5-4cbf-b3f2-cd018ad1f7d6",
   "metadata": {},
   "outputs": [
    {
     "name": "stdout",
     "output_type": "stream",
     "text": [
      "[54, 90]\n",
      "[7542]\n",
      "[2867956, 3100150]\n"
     ]
    }
   ],
   "source": [
    "import numpy as np\n",
    "\n",
    "def generate_combinations(arr, num_zeros, start=0, current=[]):\n",
    "    if len(current) == num_zeros:\n",
    "        yield current[:]\n",
    "        return\n",
    "    \n",
    "    for i in range(start, len(arr)):\n",
    "        current.append(arr[i])\n",
    "        yield from generate_combinations(arr, num_zeros, i + 1, current)\n",
    "        current.pop()\n",
    "\n",
    "def count_zero(n):\n",
    "    total_cells = n * n\n",
    "    half_cells = total_cells // 2\n",
    "    \n",
    "    if total_cells % 2 == 0:\n",
    "        zero_counts = [half_cells]\n",
    "    else:\n",
    "        zero_counts = [half_cells, half_cells + 1]\n",
    "    \n",
    "    counts = []\n",
    "    \n",
    "    for num_zeros in zero_counts:\n",
    "        count = 0\n",
    "        positions = list(range(total_cells))\n",
    "        \n",
    "        for zero_positions in generate_combinations(positions, num_zeros):\n",
    "            matrix = np.ones((n, n), dtype=int)\n",
    "            \n",
    "            for pos in zero_positions:\n",
    "                matrix[pos // n, pos % n] = 0\n",
    "            \n",
    "            if np.linalg.det(matrix) == 0:\n",
    "                count += 1\n",
    "        \n",
    "        counts.append(count)\n",
    "    \n",
    "    return counts\n",
    "\n",
    "print(count_zero(3))\n",
    "print(count_zero(4))\n",
    "print(count_zero(5))"
   ]
  },
  {
   "cell_type": "code",
   "execution_count": 4,
   "id": "d8452856-9fb9-4300-b759-9bba7151e9b1",
   "metadata": {},
   "outputs": [
    {
     "name": "stdout",
     "output_type": "stream",
     "text": [
      "n=3: P1 Wins=7046, P2 Wins=2954\n",
      "n=4: P1 Wins=7251, P2 Wins=2749\n",
      "n=5: P1 Wins=6680, P2 Wins=3320\n",
      "n=6: P1 Wins=6461, P2 Wins=3539\n",
      "n=7: P1 Wins=5863, P2 Wins=4137\n"
     ]
    }
   ],
   "source": [
    "\n",
    "import random\n",
    "\n",
    "def game(n):\n",
    "\n",
    "    grid = np.full((n, n), -1)  \n",
    "    moves = [(i, j) for i in range(n) for j in range(n)]\n",
    "    random.shuffle(moves)\n",
    "    \n",
    "    for turn, (i, j) in enumerate(moves):\n",
    "        if turn % 2 == 0:\n",
    "            grid[i, j] = 0  \n",
    "            grid[i, j] = 1 \n",
    "    \n",
    "    \n",
    "    return np.linalg.det(grid) == 0\n",
    "\n",
    "def simulate_games(n, num_games=10000):\n",
    "\n",
    "    player1_wins = 0\n",
    "    player2_wins = 0\n",
    "    \n",
    "    for _ in range(num_games):\n",
    "        if game(n):\n",
    "            player1_wins += 1\n",
    "        else:\n",
    "            player2_wins += 1\n",
    "    \n",
    "    return player1_wins, player2_wins\n",
    "\n",
    "\n",
    "num_games = 10000\n",
    "results = [(n, *simulate_games(n, num_games)) for n in range(3, 8)]\n",
    "print(\"\\n\".join([f\"n={n}: P1 Wins={p1}, P2 Wins={p2}\" for n, p1, p2 in results]))"
   ]
  },
  {
   "cell_type": "code",
   "execution_count": null,
   "id": "4a7436d2-1792-4798-bd2c-cd795f9a8afe",
   "metadata": {},
   "outputs": [],
   "source": []
  }
 ],
 "metadata": {
  "kernelspec": {
   "display_name": "Python [conda env:base] *",
   "language": "python",
   "name": "conda-base-py"
  },
  "language_info": {
   "codemirror_mode": {
    "name": "ipython",
    "version": 3
   },
   "file_extension": ".py",
   "mimetype": "text/x-python",
   "name": "python",
   "nbconvert_exporter": "python",
   "pygments_lexer": "ipython3",
   "version": "3.12.7"
  }
 },
 "nbformat": 4,
 "nbformat_minor": 5
}
