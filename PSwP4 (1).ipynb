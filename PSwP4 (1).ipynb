{
 "cells": [
  {
   "cell_type": "code",
   "execution_count": 82,
   "id": "866d41ae-f9b7-4b77-a162-d8b8dea6abc6",
   "metadata": {},
   "outputs": [
    {
     "data": {
      "text/plain": [
       "0.6666666865348816"
      ]
     },
     "execution_count": 82,
     "metadata": {},
     "output_type": "execute_result"
    }
   ],
   "source": [
    "import math\n",
    "import itertools\n",
    "\n",
    "\n",
    "def prob(n):\n",
    "    k= n//2\n",
    "    start=0\n",
    "    for i in list(range(k +1)):\n",
    "        start+= math.comb(n-i, i )* (2)**i\n",
    "    return start/ (2**n)\n",
    "\n",
    "\n",
    "prob(24)\n",
    "\n",
    "\n"
   ]
  },
  {
   "cell_type": "code",
   "execution_count": 86,
   "id": "4b00876c-7ec5-485e-af5b-02dc00ca3913",
   "metadata": {},
   "outputs": [
    {
     "data": {
      "text/plain": [
       "[('H', '1'), ('T', '2')]"
      ]
     },
     "execution_count": 86,
     "metadata": {},
     "output_type": "execute_result"
    }
   ],
   "source": [
    "import itertools\n",
    "\n",
    "def coin_flip_sequence(flips):\n",
    "    cumulative = 0\n",
    "    sequence = \"\"\n",
    "    \n",
    "    for flip in flips:\n",
    "        if flip == 'H':\n",
    "            cumulative += 1\n",
    "        elif flip == 'T':\n",
    "            cumulative += 2\n",
    "        else:\n",
    "            raise ValueError(\"Use only 'H' or 'T'.\")\n",
    "        \n",
    "        sequence += str(cumulative)\n",
    "    \n",
    "    return sequence\n",
    "\n",
    "def generate_sequences(n):\n",
    "    outcomes = []\n",
    "    \n",
    "    for outcome in itertools.product('HT', repeat=n):\n",
    "        flip_str = ''.join(outcome)\n",
    "        num_seq = coin_flip_sequence(flip_str)\n",
    "        outcomes.append((flip_str, num_seq))\n",
    "    \n",
    "    return outcomes\n",
    "\n",
    "\n",
    "generate_sequences(1)"
   ]
  },
  {
   "cell_type": "code",
   "execution_count": 92,
   "id": "dcdfb90e-a07a-48f8-9221-ed3f4daf2400",
   "metadata": {},
   "outputs": [
    {
     "data": {
      "text/plain": [
       "[('HH', '12'), ('HT', '13'), ('TH', '23'), ('TT', '24')]"
      ]
     },
     "execution_count": 92,
     "metadata": {},
     "output_type": "execute_result"
    }
   ],
   "source": [
    "generate_sequences(2)"
   ]
  },
  {
   "cell_type": "code",
   "execution_count": 90,
   "id": "baee1a2c-26e8-493b-b267-d2c523d37e35",
   "metadata": {},
   "outputs": [
    {
     "data": {
      "text/plain": [
       "[('HHH', '123'),\n",
       " ('HHT', '124'),\n",
       " ('HTH', '134'),\n",
       " ('HTT', '135'),\n",
       " ('THH', '234'),\n",
       " ('THT', '235'),\n",
       " ('TTH', '245'),\n",
       " ('TTT', '246')]"
      ]
     },
     "execution_count": 90,
     "metadata": {},
     "output_type": "execute_result"
    }
   ],
   "source": [
    "generate_sequences(3)"
   ]
  },
  {
   "cell_type": "code",
   "execution_count": 94,
   "id": "73480111-3c63-4420-bd70-6a4d77ead297",
   "metadata": {},
   "outputs": [
    {
     "data": {
      "text/plain": [
       "[('HHHH', '1234'),\n",
       " ('HHHT', '1235'),\n",
       " ('HHTH', '1245'),\n",
       " ('HHTT', '1246'),\n",
       " ('HTHH', '1345'),\n",
       " ('HTHT', '1346'),\n",
       " ('HTTH', '1356'),\n",
       " ('HTTT', '1357'),\n",
       " ('THHH', '2345'),\n",
       " ('THHT', '2346'),\n",
       " ('THTH', '2356'),\n",
       " ('THTT', '2357'),\n",
       " ('TTHH', '2456'),\n",
       " ('TTHT', '2457'),\n",
       " ('TTTH', '2467'),\n",
       " ('TTTT', '2468')]"
      ]
     },
     "execution_count": 94,
     "metadata": {},
     "output_type": "execute_result"
    }
   ],
   "source": [
    "generate_sequences(4)"
   ]
  },
  {
   "cell_type": "code",
   "execution_count": 96,
   "id": "f1618c1a-13f7-4437-a35c-6a639264fe2d",
   "metadata": {},
   "outputs": [
    {
     "data": {
      "text/plain": [
       "[('HHHHH', '12345'),\n",
       " ('HHHHT', '12346'),\n",
       " ('HHHTH', '12356'),\n",
       " ('HHHTT', '12357'),\n",
       " ('HHTHH', '12456'),\n",
       " ('HHTHT', '12457'),\n",
       " ('HHTTH', '12467'),\n",
       " ('HHTTT', '12468'),\n",
       " ('HTHHH', '13456'),\n",
       " ('HTHHT', '13457'),\n",
       " ('HTHTH', '13467'),\n",
       " ('HTHTT', '13468'),\n",
       " ('HTTHH', '13567'),\n",
       " ('HTTHT', '13568'),\n",
       " ('HTTTH', '13578'),\n",
       " ('HTTTT', '13579'),\n",
       " ('THHHH', '23456'),\n",
       " ('THHHT', '23457'),\n",
       " ('THHTH', '23467'),\n",
       " ('THHTT', '23468'),\n",
       " ('THTHH', '23567'),\n",
       " ('THTHT', '23568'),\n",
       " ('THTTH', '23578'),\n",
       " ('THTTT', '23579'),\n",
       " ('TTHHH', '24567'),\n",
       " ('TTHHT', '24568'),\n",
       " ('TTHTH', '24578'),\n",
       " ('TTHTT', '24579'),\n",
       " ('TTTHH', '24678'),\n",
       " ('TTTHT', '24679'),\n",
       " ('TTTTH', '24689'),\n",
       " ('TTTTT', '246810')]"
      ]
     },
     "execution_count": 96,
     "metadata": {},
     "output_type": "execute_result"
    }
   ],
   "source": [
    "generate_sequences(5)"
   ]
  },
  {
   "cell_type": "code",
   "execution_count": null,
   "id": "62867109-7e6f-45c2-8aa8-50537929c2e0",
   "metadata": {},
   "outputs": [],
   "source": []
  }
 ],
 "metadata": {
  "kernelspec": {
   "display_name": "Python [conda env:base] *",
   "language": "python",
   "name": "conda-base-py"
  },
  "language_info": {
   "codemirror_mode": {
    "name": "ipython",
    "version": 3
   },
   "file_extension": ".py",
   "mimetype": "text/x-python",
   "name": "python",
   "nbconvert_exporter": "python",
   "pygments_lexer": "ipython3",
   "version": "3.12.7"
  }
 },
 "nbformat": 4,
 "nbformat_minor": 5
}
