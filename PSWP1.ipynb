{
 "cells": [
  {
   "cell_type": "code",
   "execution_count": 89,
   "id": "3448887b-792a-47fd-b1ea-9904e35d8d2f",
   "metadata": {},
   "outputs": [
    {
     "name": "stdout",
     "output_type": "stream",
     "text": [
      "[1, 5, 6, 1, 7, 8, 5, 3, 8, 1, 9, 0, 9, 9, 8, 7, 5, 2, 7, 9, 6, 5, 1, 6, 7, 3, 0, 3, 3, 6, 9, 5, 4, 9, 3, 2, 5, 7, 2, 9, 1, 0, 1, 1, 2, 3, 5, 8, 3, 1, 4, 5, 9, 4, 3, 7, 0, 7, 7, 4, 1, 5]\n"
     ]
    }
   ],
   "source": [
    "def generater(start, length):\n",
    "    bracelet = list(start)\n",
    "    while len(bracelet) < length:\n",
    "        next_number = (bracelet[-1] + bracelet[-2]) % 10\n",
    "        bracelet.append(next_number)\n",
    "    \n",
    "    return bracelet\n",
    "print(generater([1, 5], 62))\n",
    "\n"
   ]
  },
  {
   "cell_type": "code",
   "execution_count": 93,
   "id": "cadeb1bb-c083-4fc8-96db-ab0fc6632a97",
   "metadata": {},
   "outputs": [
    {
     "name": "stdout",
     "output_type": "stream",
     "text": [
      "[15, 56, 61, 17, 78, 85, 53, 38, 81, 19, 90, 9, 99, 98, 87, 75, 52, 27, 79, 96, 65, 51, 16, 67, 73, 30, 3, 33, 36, 69, 95, 54, 49, 93, 32, 25, 57, 72, 29, 91, 10, 1, 11, 12, 23, 35, 58, 83, 31, 14, 45, 59, 94, 43, 37, 70, 7, 77, 74, 41]\n",
      "[0, 0, 0, 0, 0, 0, 0, 0, 0, 0, 0, 0, 0, 0, 0, 0, 0, 0, 0, 0, 0, 0, 0, 0, 0, 0, 0, 0, 0, 0, 0, 0, 0, 0, 0, 0, 0, 0, 0, 0, 0, 0, 0, 0, 0, 0, 0, 0, 0, 0, 0, 0, 0, 0, 0, 0, 0, 0, 0, 0]\n",
      "[1, 11, 12, 23, 35, 58, 83, 31, 14, 45, 59, 94, 43, 37, 70, 7, 77, 74, 41, 15, 56, 61, 17, 78, 85, 53, 38, 81, 19, 90, 9, 99, 98, 87, 75, 52, 27, 79, 96, 65, 51, 16, 67, 73, 30, 3, 33, 36, 69, 95, 54, 49, 93, 32, 25, 57, 72, 29, 91, 10]\n",
      "[2, 22, 24, 46, 60, 6, 66, 62, 28, 80, 8, 88, 86, 64, 40, 4, 44, 48, 82, 20, 2, 22, 24, 46, 60, 6, 66, 62, 28, 80, 8, 88, 86, 64, 40, 4, 44, 48, 82, 20, 2, 22, 24, 46, 60, 6, 66, 62, 28, 80, 8, 88, 86, 64, 40, 4, 44, 48, 82, 20]\n",
      "[3, 33, 36, 69, 95, 54, 49, 93, 32, 25, 57, 72, 29, 91, 10, 1, 11, 12, 23, 35, 58, 83, 31, 14, 45, 59, 94, 43, 37, 70, 7, 77, 74, 41, 15, 56, 61, 17, 78, 85, 53, 38, 81, 19, 90, 9, 99, 98, 87, 75, 52, 27, 79, 96, 65, 51, 16, 67, 73, 30]\n",
      "[4, 44, 48, 82, 20, 2, 22, 24, 46, 60, 6, 66, 62, 28, 80, 8, 88, 86, 64, 40, 4, 44, 48, 82, 20, 2, 22, 24, 46, 60, 6, 66, 62, 28, 80, 8, 88, 86, 64, 40, 4, 44, 48, 82, 20, 2, 22, 24, 46, 60, 6, 66, 62, 28, 80, 8, 88, 86, 64, 40]\n",
      "[5, 55, 50, 5, 55, 50, 5, 55, 50, 5, 55, 50, 5, 55, 50, 5, 55, 50, 5, 55, 50, 5, 55, 50, 5, 55, 50, 5, 55, 50, 5, 55, 50, 5, 55, 50, 5, 55, 50, 5, 55, 50, 5, 55, 50, 5, 55, 50, 5, 55, 50, 5, 55, 50, 5, 55, 50, 5, 55, 50]\n"
     ]
    }
   ],
   "source": [
    "def produce_pairs(sequence):\n",
    "    pairs = []\n",
    "    for i in range(len(sequence) - 1):\n",
    "        pair = sequence[i] * 10 + sequence[i + 1] \n",
    "        pairs.append(pair)\n",
    "    return pairs\n",
    "print(produce_pairs(generater([1, 5], 61)))\n",
    "print(produce_pairs(generater([0, 0], 61)))\n",
    "print(produce_pairs(generater([0, 1], 61)))\n",
    "print(produce_pairs(generater([0, 2], 61)))\n",
    "print(produce_pairs(generater([0, 3], 61)))\n",
    "print(produce_pairs(generater([0, 4], 61)))\n",
    "print(produce_pairs(generater([0, 5], 61)))\n"
   ]
  },
  {
   "cell_type": "code",
   "execution_count": 91,
   "id": "b41a524f-8234-4305-aec6-7d2ffd91b967",
   "metadata": {},
   "outputs": [
    {
     "name": "stdout",
     "output_type": "stream",
     "text": [
      "Length: 1, Initial Sequences: [(0, 0)]\n",
      "Length: 3, Initial Sequences: [(0, 5), (5, 0), (5, 5)]\n",
      "Length: 4, Initial Sequences: [(2, 6), (4, 2), (6, 8), (8, 4)]\n",
      "Length: 12, Initial Sequences: [(1, 3), (1, 8), (2, 1), (3, 4), (3, 9), (4, 7), (6, 3), (7, 1), (7, 6), (8, 9), (9, 2), (9, 7)]\n",
      "Length: 20, Initial Sequences: [(0, 2), (0, 4), (0, 6), (0, 8), (2, 0), (2, 2), (2, 4), (2, 8), (4, 0), (4, 4), (4, 6), (4, 8), (6, 0), (6, 2), (6, 4), (6, 6), (8, 0), (8, 2), (8, 6), (8, 8)]\n",
      "Length: 60, Initial Sequences: [(0, 1), (0, 3), (0, 7), (0, 9), (1, 0), (1, 1), (1, 2), (1, 4), (1, 5), (1, 6), (1, 7), (1, 9), (2, 3), (2, 5), (2, 7), (2, 9), (3, 0), (3, 1), (3, 2), (3, 3), (3, 5), (3, 6), (3, 7), (3, 8), (4, 1), (4, 3), (4, 5), (4, 9), (5, 1), (5, 2), (5, 3), (5, 4), (5, 6), (5, 7), (5, 8), (5, 9), (6, 1), (6, 5), (6, 7), (6, 9), (7, 0), (7, 2), (7, 3), (7, 4), (7, 5), (7, 7), (7, 8), (7, 9), (8, 1), (8, 3), (8, 5), (8, 7), (9, 0), (9, 1), (9, 3), (9, 4), (9, 5), (9, 6), (9, 8), (9, 9)]\n"
     ]
    }
   ],
   "source": [
    "def bracelet_counter():\n",
    "\n",
    "    results = {}\n",
    "    for i in range(100):  \n",
    "        initial_sequence = [i // 10, i % 10] \n",
    "        bracelet = []  \n",
    "        seen_pairs = set()  \n",
    "\n",
    "        while True:\n",
    "         \n",
    "            if len(bracelet) < 2:\n",
    "                bracelet.append(initial_sequence[len(bracelet)])\n",
    "            else:\n",
    "                next_number = (bracelet[-1] + bracelet[-2]) % 10\n",
    "                bracelet.append(next_number)\n",
    "\n",
    "            \n",
    "            pair = (bracelet[-2], bracelet[-1]) if len(bracelet) > 1 else None\n",
    "            if pair in seen_pairs:\n",
    "                break\n",
    "            seen_pairs.add(pair)\n",
    "\n",
    "        \n",
    "        cycle_length = len(seen_pairs)\n",
    "\n",
    "       \n",
    "        if cycle_length not in results:\n",
    "            results[cycle_length] = []\n",
    "        results[cycle_length].append(tuple(initial_sequence))\n",
    "\n",
    "    return results\n",
    "\n",
    "bracelets = bracelet_counter()\n",
    "for length, sequences in sorted(bracelets.items()):\n",
    "    print(f\"Length: {length-1}, Initial Sequences: {sequences}\")"
   ]
  },
  {
   "cell_type": "code",
   "execution_count": null,
   "id": "a0f3619b-a87a-4cc4-8616-594c784be499",
   "metadata": {},
   "outputs": [],
   "source": []
  }
 ],
 "metadata": {
  "kernelspec": {
   "display_name": "Python [conda env:base] *",
   "language": "python",
   "name": "conda-base-py"
  },
  "language_info": {
   "codemirror_mode": {
    "name": "ipython",
    "version": 3
   },
   "file_extension": ".py",
   "mimetype": "text/x-python",
   "name": "python",
   "nbconvert_exporter": "python",
   "pygments_lexer": "ipython3",
   "version": "3.12.7"
  }
 },
 "nbformat": 4,
 "nbformat_minor": 5
}
